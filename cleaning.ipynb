{
 "cells": [
  {
   "cell_type": "code",
   "execution_count": 35,
   "id": "cdd069ee",
   "metadata": {},
   "outputs": [],
   "source": [
    "import json"
   ]
  },
  {
   "cell_type": "code",
   "execution_count": 36,
   "id": "1f3d62a8",
   "metadata": {},
   "outputs": [],
   "source": [
    "with open('pax_topics.json', 'r') as f:\n",
    "    topics = json.load(f)\n",
    "\n",
    "# print(json.dumps(topics, indent=2))"
   ]
  },
  {
   "cell_type": "code",
   "execution_count": 37,
   "id": "319313b0",
   "metadata": {},
   "outputs": [],
   "source": [
    "hierarchy = []\n",
    "for code in topics:\n",
    "    if code[\"dataset\"][\"id\"] == 1 and code[\"level\"] == 0:\n",
    "        hierarchy.append({\"name\": code[\"name\"], \"children\": []})\n",
    "        for child in code[\"children\"]:\n",
    "            if child[\"dataset\"][\"id\"] == 1:\n",
    "                hierarchy[-1][\"children\"].append({\n",
    "                    \"short\": child[\"code\"],\n",
    "                    \"name\": child[\"name\"]\n",
    "                })\n",
    "\n",
    "re = {}\n",
    "re[\"children\"] = hierarchy"
   ]
  },
  {
   "cell_type": "code",
   "execution_count": 38,
   "id": "0dd653b4",
   "metadata": {},
   "outputs": [],
   "source": [
    "with open('re_hierarchy.json', 'w') as output:\n",
    "    output.write(json.dumps(re, indent=2))"
   ]
  },
  {
   "cell_type": "code",
   "execution_count": 39,
   "id": "d2141ece",
   "metadata": {},
   "outputs": [],
   "source": [
    "# with open('output_topics.json', 'w') as output:\n",
    "#     output.write(json.dumps(topics, indent=2))"
   ]
  },
  {
   "cell_type": "code",
   "execution_count": null,
   "id": "81a40e95",
   "metadata": {},
   "outputs": [],
   "source": []
  }
 ],
 "metadata": {
  "kernelspec": {
   "display_name": "base",
   "language": "python",
   "name": "python3"
  },
  "language_info": {
   "codemirror_mode": {
    "name": "ipython",
    "version": 3
   },
   "file_extension": ".py",
   "mimetype": "text/x-python",
   "name": "python",
   "nbconvert_exporter": "python",
   "pygments_lexer": "ipython3",
   "version": "3.11.3"
  }
 },
 "nbformat": 4,
 "nbformat_minor": 5
}
